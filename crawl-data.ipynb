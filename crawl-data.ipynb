{
 "cells": [
  {
   "cell_type": "code",
   "execution_count": 1,
   "id": "74976676-1309-40c6-8ad1-7a0c8262f21b",
   "metadata": {},
   "outputs": [],
   "source": [
    "from binance import Client\n",
    "import csv\n",
    "import pandas as pd\n",
    "import time\n",
    "import matplotlib.pyplot as plt"
   ]
  },
  {
   "cell_type": "code",
   "execution_count": 2,
   "id": "92d5322f-0d3a-4143-bd01-9d438bd954d5",
   "metadata": {},
   "outputs": [],
   "source": [
    "apiKey = 'M1dOjD5eP7O6RmlmPR3NQvGC2a6m5G9qrpoDkVvhoj4SElRrq7TqZcrcjRdorm03'\n",
    "apiSecret = 'Xp0VLnY7U2PdKqrshHVZFeQmx1lP80hs4WWdMB6dZw9GkcI4dE1y7JhkgTIdKsVd'"
   ]
  },
  {
   "cell_type": "code",
   "execution_count": 3,
   "id": "ae3e3a9f-cbf6-4b1e-b9fe-8cbd2c119c44",
   "metadata": {},
   "outputs": [],
   "source": [
    "client = Client(apiKey, apiSecret, testnet= True)"
   ]
  },
  {
   "cell_type": "code",
   "execution_count": 10,
   "id": "d2b14d84-4f48-4b36-85b7-68a2daeb2d28",
   "metadata": {},
   "outputs": [],
   "source": [
    "symbol = 'BTCUSDT'\n",
    "interval='1m'\n",
    "dir_file_name = \"data/data_\" + symbol + '_' +interval + '.csv'\n",
    "start = ['6000','5000','4000','3000','2000','1000']\n",
    "end = ['5000','4000','3000','2000','1000','0']\n"
   ]
  },
  {
   "cell_type": "code",
   "execution_count": 17,
   "id": "6d6c13ef-933b-4479-873d-d19f65b15b9c",
   "metadata": {},
   "outputs": [],
   "source": [
    "def crawl_data(symbol, interval, start, end):\n",
    "    dir_file_name = \"data/6000/data_\" + symbol + '_' +interval +'_'+start+ '.csv'\n",
    "    frame = pd.DataFrame(client.get_historical_klines(symbol=symbol, interval= interval, start_str= start+' min ago UTC', end_str= end+' min ago UTC'))\n",
    "    frame = frame.iloc[:,:6]\n",
    "    frame.columns = ['Time','Open','High','Low','Close','Volume']\n",
    "    frame = frame.set_index('Time')\n",
    "    frame.index = pd.to_datetime(frame.index, unit='ms')\n",
    "    frame = frame.astype(float)\n",
    "    frame.to_csv(dir_file_name)\n",
    "    print(\"success interval \")"
   ]
  },
  {
   "cell_type": "code",
   "execution_count": 18,
   "id": "6de40650-cac8-403e-ae31-e58a49c90759",
   "metadata": {},
   "outputs": [
    {
     "name": "stdout",
     "output_type": "stream",
     "text": [
      "success interval \n",
      "success interval \n",
      "success interval \n",
      "success interval \n",
      "success interval \n",
      "success interval \n"
     ]
    }
   ],
   "source": [
    "for i in range(6):\n",
    "    crawl_data(symbol, interval, start[i], end[i])"
   ]
  },
  {
   "cell_type": "code",
   "execution_count": 25,
   "id": "1521223a-9436-47ed-a8c5-590fdd5b75b7",
   "metadata": {},
   "outputs": [],
   "source": [
    "df = pd.read_csv('data/data_BTCUSDT_1m.csv')"
   ]
  },
  {
   "cell_type": "code",
   "execution_count": 26,
   "id": "a9fe3e7f-3200-4380-b85e-b29fa1502543",
   "metadata": {},
   "outputs": [
    {
     "data": {
      "text/html": [
       "<div>\n",
       "<style scoped>\n",
       "    .dataframe tbody tr th:only-of-type {\n",
       "        vertical-align: middle;\n",
       "    }\n",
       "\n",
       "    .dataframe tbody tr th {\n",
       "        vertical-align: top;\n",
       "    }\n",
       "\n",
       "    .dataframe thead th {\n",
       "        text-align: right;\n",
       "    }\n",
       "</style>\n",
       "<table border=\"1\" class=\"dataframe\">\n",
       "  <thead>\n",
       "    <tr style=\"text-align: right;\">\n",
       "      <th></th>\n",
       "      <th>Time</th>\n",
       "      <th>Open</th>\n",
       "      <th>High</th>\n",
       "      <th>Low</th>\n",
       "      <th>Close</th>\n",
       "      <th>Volume</th>\n",
       "    </tr>\n",
       "  </thead>\n",
       "  <tbody>\n",
       "    <tr>\n",
       "      <th>0</th>\n",
       "      <td>2022-01-25 03:35:00</td>\n",
       "      <td>36324.51</td>\n",
       "      <td>36380.94</td>\n",
       "      <td>36324.51</td>\n",
       "      <td>36355.17</td>\n",
       "      <td>0.457329</td>\n",
       "    </tr>\n",
       "    <tr>\n",
       "      <th>1</th>\n",
       "      <td>2022-01-25 03:36:00</td>\n",
       "      <td>36356.43</td>\n",
       "      <td>36373.57</td>\n",
       "      <td>36305.58</td>\n",
       "      <td>36373.57</td>\n",
       "      <td>0.590016</td>\n",
       "    </tr>\n",
       "    <tr>\n",
       "      <th>2</th>\n",
       "      <td>2022-01-25 03:37:00</td>\n",
       "      <td>36332.55</td>\n",
       "      <td>36332.55</td>\n",
       "      <td>36314.23</td>\n",
       "      <td>36329.92</td>\n",
       "      <td>0.327608</td>\n",
       "    </tr>\n",
       "    <tr>\n",
       "      <th>3</th>\n",
       "      <td>2022-01-25 03:38:00</td>\n",
       "      <td>36335.57</td>\n",
       "      <td>36341.88</td>\n",
       "      <td>36309.40</td>\n",
       "      <td>36320.34</td>\n",
       "      <td>0.295082</td>\n",
       "    </tr>\n",
       "    <tr>\n",
       "      <th>4</th>\n",
       "      <td>2022-01-25 03:39:00</td>\n",
       "      <td>36318.67</td>\n",
       "      <td>36367.06</td>\n",
       "      <td>36318.67</td>\n",
       "      <td>36367.06</td>\n",
       "      <td>0.436759</td>\n",
       "    </tr>\n",
       "    <tr>\n",
       "      <th>...</th>\n",
       "      <td>...</td>\n",
       "      <td>...</td>\n",
       "      <td>...</td>\n",
       "      <td>...</td>\n",
       "      <td>...</td>\n",
       "      <td>...</td>\n",
       "    </tr>\n",
       "    <tr>\n",
       "      <th>995</th>\n",
       "      <td>2022-01-25 20:10:00</td>\n",
       "      <td>36835.98</td>\n",
       "      <td>36870.70</td>\n",
       "      <td>36812.06</td>\n",
       "      <td>36867.00</td>\n",
       "      <td>0.853752</td>\n",
       "    </tr>\n",
       "    <tr>\n",
       "      <th>996</th>\n",
       "      <td>2022-01-25 20:11:00</td>\n",
       "      <td>36873.07</td>\n",
       "      <td>36900.00</td>\n",
       "      <td>36825.78</td>\n",
       "      <td>36853.00</td>\n",
       "      <td>0.939684</td>\n",
       "    </tr>\n",
       "    <tr>\n",
       "      <th>997</th>\n",
       "      <td>2022-01-25 20:12:00</td>\n",
       "      <td>36852.99</td>\n",
       "      <td>36875.00</td>\n",
       "      <td>36830.81</td>\n",
       "      <td>36839.19</td>\n",
       "      <td>0.771043</td>\n",
       "    </tr>\n",
       "    <tr>\n",
       "      <th>998</th>\n",
       "      <td>2022-01-25 20:13:00</td>\n",
       "      <td>36827.59</td>\n",
       "      <td>36857.49</td>\n",
       "      <td>36825.21</td>\n",
       "      <td>36851.25</td>\n",
       "      <td>0.710367</td>\n",
       "    </tr>\n",
       "    <tr>\n",
       "      <th>999</th>\n",
       "      <td>2022-01-25 20:14:00</td>\n",
       "      <td>36841.83</td>\n",
       "      <td>36880.18</td>\n",
       "      <td>36841.83</td>\n",
       "      <td>36866.46</td>\n",
       "      <td>0.432292</td>\n",
       "    </tr>\n",
       "  </tbody>\n",
       "</table>\n",
       "<p>1000 rows × 6 columns</p>\n",
       "</div>"
      ],
      "text/plain": [
       "                    Time      Open      High       Low     Close    Volume\n",
       "0    2022-01-25 03:35:00  36324.51  36380.94  36324.51  36355.17  0.457329\n",
       "1    2022-01-25 03:36:00  36356.43  36373.57  36305.58  36373.57  0.590016\n",
       "2    2022-01-25 03:37:00  36332.55  36332.55  36314.23  36329.92  0.327608\n",
       "3    2022-01-25 03:38:00  36335.57  36341.88  36309.40  36320.34  0.295082\n",
       "4    2022-01-25 03:39:00  36318.67  36367.06  36318.67  36367.06  0.436759\n",
       "..                   ...       ...       ...       ...       ...       ...\n",
       "995  2022-01-25 20:10:00  36835.98  36870.70  36812.06  36867.00  0.853752\n",
       "996  2022-01-25 20:11:00  36873.07  36900.00  36825.78  36853.00  0.939684\n",
       "997  2022-01-25 20:12:00  36852.99  36875.00  36830.81  36839.19  0.771043\n",
       "998  2022-01-25 20:13:00  36827.59  36857.49  36825.21  36851.25  0.710367\n",
       "999  2022-01-25 20:14:00  36841.83  36880.18  36841.83  36866.46  0.432292\n",
       "\n",
       "[1000 rows x 6 columns]"
      ]
     },
     "execution_count": 26,
     "metadata": {},
     "output_type": "execute_result"
    }
   ],
   "source": [
    "df"
   ]
  },
  {
   "cell_type": "code",
   "execution_count": 27,
   "id": "0e317491-bf24-402c-9d09-6686ceb2f748",
   "metadata": {},
   "outputs": [],
   "source": [
    "def train_test_split(df, test_size=0.2):\n",
    "    split_row = len(df) - int(test_size * len(df))\n",
    "    train_data = df.iloc[:split_row]\n",
    "    test_data = df.iloc[split_row:]\n",
    "    return train_data, test_data"
   ]
  },
  {
   "cell_type": "code",
   "execution_count": 29,
   "id": "8469427d-321a-41f5-b7da-af0a42eb9382",
   "metadata": {},
   "outputs": [],
   "source": [
    "train, test = train_test_split(df, test_size=0.2)"
   ]
  },
  {
   "cell_type": "code",
   "execution_count": 30,
   "id": "7940e3de-202b-4735-8c3c-be2ff06fb2bb",
   "metadata": {},
   "outputs": [],
   "source": [
    "def line_plot(line1, line2, label1=None, label2=None, title='', lw=2):\n",
    "    fig, ax = plt.subplots(1, figsize=(13, 7))\n",
    "    ax.plot(line1, label=label1, linewidth=lw)\n",
    "    ax.plot(line2, label=label2, linewidth=lw)\n",
    "    ax.set_ylabel('High', fontsize=14)\n",
    "    ax.set_title(title, fontsize=16)\n",
    "    ax.legend(loc='best', fontsize=16);"
   ]
  },
  {
   "cell_type": "code",
   "execution_count": 33,
   "id": "c4a3d0ee-1701-40bb-9c50-bc17fc4d3e27",
   "metadata": {},
   "outputs": [
    {
     "data": {
      "image/png": "[encoded data removed]",
      "text/plain": [
       "<Figure size 936x504 with 1 Axes>"
      ]
     },
     "metadata": {
      "needs_background": "light"
     },
     "output_type": "display_data"
    }
   ],
   "source": [
    "line_plot(train['High'], test['High'], 'training', 'test', title='')"
   ]
  },
  {
   "cell_type": "code",
   "execution_count": null,
   "id": "124d584e-87ba-432e-a3c2-a73795586b5d",
   "metadata": {},
   "outputs": [],
   "source": []
  }
 ],
 "metadata": {
  "kernelspec": {
   "display_name": "Python 3 (ipykernel)",
   "language": "python",
   "name": "python3"
  },
  "language_info": {
   "codemirror_mode": {
    "name": "ipython",
    "version": 3
   },
   "file_extension": ".py",
   "mimetype": "text/x-python",
   "name": "python",
   "nbconvert_exporter": "python",
   "pygments_lexer": "ipython3",
   "version": "3.7.11"
  }
 },
 "nbformat": 4,
 "nbformat_minor": 5
}
