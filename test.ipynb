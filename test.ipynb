{
 "cells": [
  {
   "cell_type": "code",
   "execution_count": 4,
   "id": "fae219ae-278e-4844-86f8-8d97285af9ba",
   "metadata": {},
   "outputs": [
    {
     "name": "stderr",
     "output_type": "stream",
     "text": [
      "2022-02-06 20:44:01.884471: W tensorflow/stream_executor/platform/default/dso_loader.cc:64] Could not load dynamic library 'libcudart.so.11.0'; dlerror: libcudart.so.11.0: cannot open shared object file: No such file or directory\n",
      "2022-02-06 20:44:01.884498: I tensorflow/stream_executor/cuda/cudart_stub.cc:29] Ignore above cudart dlerror if you do not have a GPU set up on your machine.\n"
     ]
    }
   ],
   "source": [
    "import sys\n",
    "from tensorflow import keras\n",
    "import yaml\n",
    "import pandas as pd\n",
    "import matplotlib.pyplot as plt\n",
    "import numpy as np\n",
    "import tensorflow as tf\n",
    "from ensemble import Ensemble\n",
    "import tensorflow.keras.backend as K"
   ]
  },
  {
   "cell_type": "code",
   "execution_count": 16,
   "id": "b364f37f",
   "metadata": {},
   "outputs": [
    {
     "name": "stdout",
     "output_type": "stream",
     "text": [
      "train_in x:  (2850, 30, 2) y:  (2850, 2)\n",
      "test_in x:  (1869, 30, 2) y:  (1869, 2)\n",
      "test_out x:  (250, 30, 2) y:  (250, 2)\n",
      "x_end (4969, 30, 2)\n",
      "(1869, 1, 16)\n",
      "Input shape: (1869, 1, 16)\n",
      "Load weight from ./log/model/\n"
     ]
    }
   ],
   "source": [
    "with open(\"./settings/model/config.yaml\", 'r') as stream:\n",
    "        config =yaml.load(stream ,Loader=  yaml.FullLoader)\n",
    "\n",
    "K.clear_session()\n",
    "sigma_index_lst = [0,1]\n",
    "epoch_num = 8\n",
    "model = Ensemble(mode='test', model_kind='rnn_cnn', sigma_lst=sigma_index_lst,\n",
    "                     default_n=20, epoch_num=epoch_num, epoch_min=100, epoch_step=50, **config)\n",
    "model.train_model_outer()\n"
   ]
  },
  {
   "cell_type": "code",
   "execution_count": 41,
   "id": "6c913d73",
   "metadata": {},
   "outputs": [
    {
     "name": "stdout",
     "output_type": "stream",
     "text": [
      "(1000, 6)\n",
      "(5000, 6)\n"
     ]
    }
   ],
   "source": [
    "dt = pd.read_csv('./data/test.csv')\n",
    "print(dt.shape)\n",
    "\n",
    "dr = pd.read_csv('./data/SonTay.csv')\n",
    "print(dr.shape)\n",
    "\n"
   ]
  },
  {
   "cell_type": "code",
   "execution_count": 54,
   "id": "04448f35",
   "metadata": {},
   "outputs": [],
   "source": [
    "Q, H, Q_, H_ =[], [], [], []\n",
    "\n",
    "for i in range(1000): \n",
    "    dr.iloc[-5000:].to_csv('./data/SonTay.csv', index = False)\n",
    "    model.data = model.generate_data()\n",
    "    q_pred, h_pred = model.prediction_vp()\n",
    "    Q.append(dt.iloc[i]['Q'])\n",
    "    H.append(dt.iloc[i]['H'])\n",
    "    Q_.append(q_pred)\n",
    "    H_.append(h_pred)\n",
    "    dr = dr.append(dt.iloc[i], ignore_index = True)\n",
    "    "
   ]
  },
  {
   "cell_type": "code",
   "execution_count": 55,
   "id": "e3b131b1",
   "metadata": {},
   "outputs": [
    {
     "data": {
      "text/plain": [
       "(5003, 6)"
      ]
     },
     "execution_count": 55,
     "metadata": {},
     "output_type": "execute_result"
    }
   ],
   "source": [
    "dr.shape"
   ]
  },
  {
   "cell_type": "code",
   "execution_count": 56,
   "id": "bb3c9fea",
   "metadata": {},
   "outputs": [
    {
     "data": {
      "text/html": [
       "<div>\n",
       "<style scoped>\n",
       "    .dataframe tbody tr th:only-of-type {\n",
       "        vertical-align: middle;\n",
       "    }\n",
       "\n",
       "    .dataframe tbody tr th {\n",
       "        vertical-align: top;\n",
       "    }\n",
       "\n",
       "    .dataframe thead th {\n",
       "        text-align: right;\n",
       "    }\n",
       "</style>\n",
       "<table border=\"1\" class=\"dataframe\">\n",
       "  <thead>\n",
       "    <tr style=\"text-align: right;\">\n",
       "      <th></th>\n",
       "      <th>date</th>\n",
       "      <th>Open</th>\n",
       "      <th>Q</th>\n",
       "      <th>H</th>\n",
       "      <th>Close</th>\n",
       "      <th>Volume</th>\n",
       "    </tr>\n",
       "  </thead>\n",
       "  <tbody>\n",
       "    <tr>\n",
       "      <th>0</th>\n",
       "      <td>2022-01-22 16:14:00</td>\n",
       "      <td>35294.40</td>\n",
       "      <td>35347.39</td>\n",
       "      <td>35235.06</td>\n",
       "      <td>35347.39</td>\n",
       "      <td>1.709522</td>\n",
       "    </tr>\n",
       "    <tr>\n",
       "      <th>1</th>\n",
       "      <td>2022-01-22 16:15:00</td>\n",
       "      <td>35346.79</td>\n",
       "      <td>35427.01</td>\n",
       "      <td>35261.50</td>\n",
       "      <td>35427.01</td>\n",
       "      <td>1.392205</td>\n",
       "    </tr>\n",
       "    <tr>\n",
       "      <th>2</th>\n",
       "      <td>2022-01-22 16:16:00</td>\n",
       "      <td>35427.01</td>\n",
       "      <td>35427.01</td>\n",
       "      <td>35320.89</td>\n",
       "      <td>35357.27</td>\n",
       "      <td>0.835867</td>\n",
       "    </tr>\n",
       "    <tr>\n",
       "      <th>3</th>\n",
       "      <td>2022-01-22 16:17:00</td>\n",
       "      <td>35336.53</td>\n",
       "      <td>35347.39</td>\n",
       "      <td>35241.51</td>\n",
       "      <td>35241.51</td>\n",
       "      <td>1.478683</td>\n",
       "    </tr>\n",
       "    <tr>\n",
       "      <th>4</th>\n",
       "      <td>2022-01-22 16:18:00</td>\n",
       "      <td>35242.08</td>\n",
       "      <td>35294.41</td>\n",
       "      <td>35241.51</td>\n",
       "      <td>35241.51</td>\n",
       "      <td>1.053969</td>\n",
       "    </tr>\n",
       "    <tr>\n",
       "      <th>...</th>\n",
       "      <td>...</td>\n",
       "      <td>...</td>\n",
       "      <td>...</td>\n",
       "      <td>...</td>\n",
       "      <td>...</td>\n",
       "      <td>...</td>\n",
       "    </tr>\n",
       "    <tr>\n",
       "      <th>4998</th>\n",
       "      <td>2022-01-26 03:32:00</td>\n",
       "      <td>37219.64</td>\n",
       "      <td>37243.27</td>\n",
       "      <td>37213.90</td>\n",
       "      <td>37240.76</td>\n",
       "      <td>0.393984</td>\n",
       "    </tr>\n",
       "    <tr>\n",
       "      <th>4999</th>\n",
       "      <td>2022-01-26 03:33:00</td>\n",
       "      <td>37237.96</td>\n",
       "      <td>37245.00</td>\n",
       "      <td>37235.00</td>\n",
       "      <td>37245.00</td>\n",
       "      <td>0.572347</td>\n",
       "    </tr>\n",
       "    <tr>\n",
       "      <th>5000</th>\n",
       "      <td>2022-01-26 03:34:00</td>\n",
       "      <td>37245.44</td>\n",
       "      <td>37327.15</td>\n",
       "      <td>37245.44</td>\n",
       "      <td>37284.03</td>\n",
       "      <td>1.212468</td>\n",
       "    </tr>\n",
       "    <tr>\n",
       "      <th>5001</th>\n",
       "      <td>2022-01-26 03:35:00</td>\n",
       "      <td>37279.95</td>\n",
       "      <td>37327.15</td>\n",
       "      <td>37250.64</td>\n",
       "      <td>37251.16</td>\n",
       "      <td>0.541547</td>\n",
       "    </tr>\n",
       "    <tr>\n",
       "      <th>5002</th>\n",
       "      <td>2022-01-26 03:36:00</td>\n",
       "      <td>37251.18</td>\n",
       "      <td>37283.00</td>\n",
       "      <td>37251.18</td>\n",
       "      <td>37263.88</td>\n",
       "      <td>0.282434</td>\n",
       "    </tr>\n",
       "  </tbody>\n",
       "</table>\n",
       "<p>5003 rows × 6 columns</p>\n",
       "</div>"
      ],
      "text/plain": [
       "                     date      Open         Q         H     Close    Volume\n",
       "0     2022-01-22 16:14:00  35294.40  35347.39  35235.06  35347.39  1.709522\n",
       "1     2022-01-22 16:15:00  35346.79  35427.01  35261.50  35427.01  1.392205\n",
       "2     2022-01-22 16:16:00  35427.01  35427.01  35320.89  35357.27  0.835867\n",
       "3     2022-01-22 16:17:00  35336.53  35347.39  35241.51  35241.51  1.478683\n",
       "4     2022-01-22 16:18:00  35242.08  35294.41  35241.51  35241.51  1.053969\n",
       "...                   ...       ...       ...       ...       ...       ...\n",
       "4998  2022-01-26 03:32:00  37219.64  37243.27  37213.90  37240.76  0.393984\n",
       "4999  2022-01-26 03:33:00  37237.96  37245.00  37235.00  37245.00  0.572347\n",
       "5000  2022-01-26 03:34:00  37245.44  37327.15  37245.44  37284.03  1.212468\n",
       "5001  2022-01-26 03:35:00  37279.95  37327.15  37250.64  37251.16  0.541547\n",
       "5002  2022-01-26 03:36:00  37251.18  37283.00  37251.18  37263.88  0.282434\n",
       "\n",
       "[5003 rows x 6 columns]"
      ]
     },
     "execution_count": 56,
     "metadata": {},
     "output_type": "execute_result"
    }
   ],
   "source": [
    "dr"
   ]
  },
  {
   "cell_type": "code",
   "execution_count": 60,
   "id": "a4d317a7",
   "metadata": {},
   "outputs": [],
   "source": [
    "dr.iloc[-5000:].to_csv('./data/SonTay2.csv', index = False)"
   ]
  },
  {
   "cell_type": "code",
   "execution_count": null,
   "id": "b4926c7e",
   "metadata": {},
   "outputs": [],
   "source": []
  }
 ],
 "metadata": {
  "kernelspec": {
   "display_name": "Python 3 (ipykernel)",
   "language": "python",
   "name": "python3"
  },
  "language_info": {
   "codemirror_mode": {
    "name": "ipython",
    "version": 3
   },
   "file_extension": ".py",
   "mimetype": "text/x-python",
   "name": "python",
   "nbconvert_exporter": "python",
   "pygments_lexer": "ipython3",
   "version": "3.7.11"
  }
 },
 "nbformat": 4,
 "nbformat_minor": 5
}
